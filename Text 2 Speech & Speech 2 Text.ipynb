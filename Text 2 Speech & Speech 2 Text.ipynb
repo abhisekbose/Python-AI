{
 "cells": [
  {
   "cell_type": "code",
   "execution_count": 3,
   "metadata": {},
   "outputs": [
    {
     "name": "stdout",
     "output_type": "stream",
     "text": [
      "pygame 1.9.4\n",
      "Hello from the pygame community. https://www.pygame.org/contribute.html\n"
     ]
    }
   ],
   "source": [
    "#need to install gTTS\n",
    "from gtts import gTTS\n",
    "#need to install pygame & mixer\n",
    "from pygame import mixer\n",
    "\n",
    "text=\"\"\n",
    "with open(\"s2p.txt\",\"r\") as file:\n",
    "    for line in file:\n",
    "        text=text + line\n",
    "        \n",
    "speech=gTTS(text,'en')\n",
    "speech.save(\"T2S21.mp3\")\n",
    "\n",
    "mixer.quit()\n",
    "mixer.init()\n",
    "mixer.music.load(\"T2S21.mp3\")\n",
    "mixer.music.play()\n"
   ]
  },
  {
   "cell_type": "code",
   "execution_count": 6,
   "metadata": {},
   "outputs": [],
   "source": [
    "mixer.quit()"
   ]
  },
  {
   "cell_type": "code",
   "execution_count": 2,
   "metadata": {},
   "outputs": [
    {
     "name": "stdout",
     "output_type": "stream",
     "text": [
      "Speak Anything :\n",
      "You said : select data from users inner join table\n"
     ]
    }
   ],
   "source": [
    "#need to install SpeechRecognition & PyAudio\n",
    "import speech_recognition as sr\n",
    "\n",
    "r = sr.Recognizer()\n",
    "with sr.Microphone() as source:\n",
    "    print(\"Speak Anything :\")\n",
    "    audio = r.listen(source)\n",
    "    try:\n",
    "        text = r.recognize_google(audio)\n",
    "        tfile=open(\"s2p.txt\",\"w\")\n",
    "        tfile.write(text)\n",
    "        tfile.close()\n",
    "        print(\"You said : {}\".format(text))\n",
    "    except:\n",
    "        print(\"Sorry could not recognize what you said\")"
   ]
  },
  {
   "cell_type": "code",
   "execution_count": 15,
   "metadata": {},
   "outputs": [
    {
     "name": "stdout",
     "output_type": "stream",
     "text": [
      "Press Enter\n"
     ]
    }
   ],
   "source": [
    "#import winsound\n",
    "#winsound.PlaySound(\"T2S.mp3\",winsound.SND_ASYNC)\n",
    "#delay=input(\"Press Enter\")"
   ]
  }
 ],
 "metadata": {
  "kernelspec": {
   "display_name": "Python 3",
   "language": "python",
   "name": "python3"
  },
  "language_info": {
   "codemirror_mode": {
    "name": "ipython",
    "version": 3
   },
   "file_extension": ".py",
   "mimetype": "text/x-python",
   "name": "python",
   "nbconvert_exporter": "python",
   "pygments_lexer": "ipython3",
   "version": "3.6.4"
  }
 },
 "nbformat": 4,
 "nbformat_minor": 2
}
